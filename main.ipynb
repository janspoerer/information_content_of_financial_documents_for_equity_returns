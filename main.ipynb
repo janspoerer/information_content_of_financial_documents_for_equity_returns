{
 "cells": [
  {
   "cell_type": "markdown",
   "metadata": {},
   "source": [
    "Replicating the Finance Paper \n",
    "\n",
    "_Empirical Asset Pricing via Machine Learning, Gu et al. (2020)_"
   ]
  },
  {
   "cell_type": "code",
   "execution_count": null,
   "metadata": {},
   "outputs": [],
   "source": []
  }
 ],
 "metadata": {
  "language_info": {
   "name": "python"
  },
  "orig_nbformat": 4
 },
 "nbformat": 4,
 "nbformat_minor": 2
}
